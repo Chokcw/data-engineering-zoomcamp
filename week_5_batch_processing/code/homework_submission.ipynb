{
 "cells": [
  {
   "cell_type": "code",
   "execution_count": 6,
   "id": "d29f55ae",
   "metadata": {},
   "outputs": [],
   "source": [
    "import pyspark\n",
    "from pyspark.sql import SparkSession"
   ]
  },
  {
   "cell_type": "code",
   "execution_count": 3,
   "id": "0123f39e",
   "metadata": {},
   "outputs": [
    {
     "data": {
      "text/plain": [
       "'/home/chinwee/spark/spark-3.0.3-bin-hadoop3.2/python/pyspark/__init__.py'"
      ]
     },
     "execution_count": 3,
     "metadata": {},
     "output_type": "execute_result"
    }
   ],
   "source": [
    "pyspark.__file__"
   ]
  },
  {
   "cell_type": "code",
   "execution_count": 7,
   "id": "f3e75cc8",
   "metadata": {},
   "outputs": [
    {
     "name": "stderr",
     "output_type": "stream",
     "text": [
      "WARNING: An illegal reflective access operation has occurred\n",
      "WARNING: Illegal reflective access by org.apache.spark.unsafe.Platform (file:/home/chinwee/spark/spark-3.0.3-bin-hadoop3.2/jars/spark-unsafe_2.12-3.0.3.jar) to constructor java.nio.DirectByteBuffer(long,int)\n",
      "WARNING: Please consider reporting this to the maintainers of org.apache.spark.unsafe.Platform\n",
      "WARNING: Use --illegal-access=warn to enable warnings of further illegal reflective access operations\n",
      "WARNING: All illegal access operations will be denied in a future release\n",
      "22/02/26 07:24:37 WARN NativeCodeLoader: Unable to load native-hadoop library for your platform... using builtin-java classes where applicable\n",
      "Using Spark's default log4j profile: org/apache/spark/log4j-defaults.properties\n",
      "Setting default log level to \"WARN\".\n",
      "To adjust logging level use sc.setLogLevel(newLevel). For SparkR, use setLogLevel(newLevel).\n"
     ]
    }
   ],
   "source": [
    "spark = SparkSession.builder \\\n",
    "    .master(\"local[*]\") \\\n",
    "    .appName('test') \\\n",
    "    .getOrCreate()"
   ]
  },
  {
   "cell_type": "markdown",
   "id": "ac45773a",
   "metadata": {},
   "source": [
    "### Download file and read using Spark"
   ]
  },
  {
   "cell_type": "code",
   "execution_count": 4,
   "id": "4d036edc",
   "metadata": {},
   "outputs": [
    {
     "name": "stdout",
     "output_type": "stream",
     "text": [
      "--2022-02-26 07:18:18--  https://nyc-tlc.s3.amazonaws.com/trip+data/fhvhv_tripdata_2021-02.csv\n",
      "Resolving nyc-tlc.s3.amazonaws.com (nyc-tlc.s3.amazonaws.com)... 52.217.78.116\n",
      "Connecting to nyc-tlc.s3.amazonaws.com (nyc-tlc.s3.amazonaws.com)|52.217.78.116|:443... connected.\n",
      "HTTP request sent, awaiting response... 200 OK\n",
      "Length: 733822658 (700M) [text/csv]\n",
      "Saving to: ‘fhvhv_tripdata_2021-02.csv’\n",
      "\n",
      "fhvhv_tripdata_2021 100%[===================>] 699.83M  14.0MB/s    in 52s     \n",
      "\n",
      "2022-02-26 07:19:11 (13.5 MB/s) - ‘fhvhv_tripdata_2021-02.csv’ saved [733822658/733822658]\n",
      "\n"
     ]
    }
   ],
   "source": [
    "!wget https://nyc-tlc.s3.amazonaws.com/trip+data/fhvhv_tripdata_2021-02.csv"
   ]
  },
  {
   "cell_type": "code",
   "execution_count": 8,
   "id": "287bf028",
   "metadata": {},
   "outputs": [],
   "source": [
    "df = spark.read \\\n",
    "    .option(\"header\", \"true\") \\\n",
    "    .csv('fhvhv_tripdata_2021-02.csv')"
   ]
  },
  {
   "cell_type": "code",
   "execution_count": 9,
   "id": "ce1edbd0",
   "metadata": {},
   "outputs": [
    {
     "data": {
      "text/plain": [
       "StructType(List(StructField(hvfhs_license_num,StringType,true),StructField(dispatching_base_num,StringType,true),StructField(pickup_datetime,StringType,true),StructField(dropoff_datetime,StringType,true),StructField(PULocationID,StringType,true),StructField(DOLocationID,StringType,true),StructField(SR_Flag,StringType,true)))"
      ]
     },
     "execution_count": 9,
     "metadata": {},
     "output_type": "execute_result"
    }
   ],
   "source": [
    "df.schema"
   ]
  },
  {
   "cell_type": "markdown",
   "id": "5191db77",
   "metadata": {},
   "source": [
    "### Generate 1000 rows to check schema using pandas"
   ]
  },
  {
   "cell_type": "code",
   "execution_count": 12,
   "id": "3c4d4ef5",
   "metadata": {},
   "outputs": [],
   "source": [
    "!head -n 1001 fhvhv_tripdata_2021-02.csv > head.csv"
   ]
  },
  {
   "cell_type": "code",
   "execution_count": 13,
   "id": "3895f14d",
   "metadata": {},
   "outputs": [],
   "source": [
    "import pandas as pd\n",
    "df_pandas = pd.read_csv('head.csv')"
   ]
  },
  {
   "cell_type": "code",
   "execution_count": 14,
   "id": "f0bea03a",
   "metadata": {},
   "outputs": [
    {
     "data": {
      "text/plain": [
       "hvfhs_license_num        object\n",
       "dispatching_base_num     object\n",
       "pickup_datetime          object\n",
       "dropoff_datetime         object\n",
       "PULocationID              int64\n",
       "DOLocationID              int64\n",
       "SR_Flag                 float64\n",
       "dtype: object"
      ]
     },
     "execution_count": 14,
     "metadata": {},
     "output_type": "execute_result"
    }
   ],
   "source": [
    "df_pandas.dtypes"
   ]
  },
  {
   "cell_type": "code",
   "execution_count": 16,
   "id": "dda3c511",
   "metadata": {},
   "outputs": [],
   "source": [
    "from pyspark.sql import types"
   ]
  },
  {
   "cell_type": "code",
   "execution_count": 17,
   "id": "5f1a2f8b",
   "metadata": {},
   "outputs": [],
   "source": [
    "schema = types.StructType([\n",
    "    types.StructField('hvfhs_license_num', types.StringType(), True),\n",
    "    types.StructField('dispatching_base_num', types.StringType(), True),\n",
    "    types.StructField('pickup_datetime', types.TimestampType(), True),\n",
    "    types.StructField('dropoff_datetime', types.TimestampType(), True),\n",
    "    types.StructField('PULocationID', types.IntegerType(), True),\n",
    "    types.StructField('DOLocationID', types.IntegerType(), True),\n",
    "    types.StructField('SR_Flag', types.StringType(), True)\n",
    "])"
   ]
  },
  {
   "cell_type": "markdown",
   "id": "45c6ced3",
   "metadata": {},
   "source": [
    "### Read data using Spark again, this time specifying schema"
   ]
  },
  {
   "cell_type": "code",
   "execution_count": 19,
   "id": "3dce0df3",
   "metadata": {},
   "outputs": [],
   "source": [
    "df = spark.read \\\n",
    "    .option(\"header\", \"true\") \\\n",
    "    .schema(schema) \\\n",
    "    .csv('fhvhv_tripdata_2021-02.csv')"
   ]
  },
  {
   "cell_type": "code",
   "execution_count": 20,
   "id": "c7370123",
   "metadata": {},
   "outputs": [],
   "source": [
    "df = df.repartition(24)"
   ]
  },
  {
   "cell_type": "code",
   "execution_count": 21,
   "id": "cfca7556",
   "metadata": {},
   "outputs": [
    {
     "name": "stderr",
     "output_type": "stream",
     "text": [
      "                                                                                \r"
     ]
    }
   ],
   "source": [
    "df.write.parquet('fhvhv/2021/02/')"
   ]
  },
  {
   "cell_type": "code",
   "execution_count": 23,
   "id": "ced3bc6a",
   "metadata": {},
   "outputs": [
    {
     "name": "stdout",
     "output_type": "stream",
     "text": [
      "root\n",
      " |-- hvfhs_license_num: string (nullable = true)\n",
      " |-- dispatching_base_num: string (nullable = true)\n",
      " |-- pickup_datetime: timestamp (nullable = true)\n",
      " |-- dropoff_datetime: timestamp (nullable = true)\n",
      " |-- PULocationID: integer (nullable = true)\n",
      " |-- DOLocationID: integer (nullable = true)\n",
      " |-- SR_Flag: string (nullable = true)\n",
      "\n"
     ]
    }
   ],
   "source": [
    "df = spark.read.parquet('fhvhv/2021/02/')\n",
    "df.printSchema()"
   ]
  },
  {
   "cell_type": "markdown",
   "id": "a08b54f4",
   "metadata": {},
   "source": [
    "### Question 2: Size of HVFHW February 2021 "
   ]
  },
  {
   "cell_type": "code",
   "execution_count": null,
   "id": "2d8639fd",
   "metadata": {},
   "outputs": [],
   "source": [
    "# !ls -lh fhvhv/2021/02\n",
    "# 208mb"
   ]
  },
  {
   "cell_type": "markdown",
   "id": "a835a81d",
   "metadata": {},
   "source": [
    "### Use Spark SQL"
   ]
  },
  {
   "cell_type": "code",
   "execution_count": 24,
   "id": "8def0151",
   "metadata": {},
   "outputs": [],
   "source": [
    "### Register dataframe as temp table so we can run sql on it\n",
    "df.registerTempTable('fhvhv_2021_02')"
   ]
  },
  {
   "cell_type": "code",
   "execution_count": 26,
   "id": "4f0a6fee",
   "metadata": {},
   "outputs": [
    {
     "name": "stdout",
     "output_type": "stream",
     "text": [
      "+-----------------+--------------------+-------------------+-------------------+------------+------------+-------+\n",
      "|hvfhs_license_num|dispatching_base_num|    pickup_datetime|   dropoff_datetime|PULocationID|DOLocationID|SR_Flag|\n",
      "+-----------------+--------------------+-------------------+-------------------+------------+------------+-------+\n",
      "|           HV0003|              B02887|2021-02-06 01:18:35|2021-02-06 01:40:34|         163|         235|   null|\n",
      "|           HV0005|              B02510|2021-02-05 07:13:06|2021-02-05 07:31:56|         225|         181|   null|\n",
      "|           HV0003|              B02869|2021-02-04 16:56:52|2021-02-04 17:21:36|         260|          95|   null|\n",
      "|           HV0003|              B02871|2021-02-03 18:34:17|2021-02-03 18:57:12|         235|          60|   null|\n",
      "|           HV0003|              B02869|2021-02-04 07:25:09|2021-02-04 07:30:34|          55|          55|   null|\n",
      "|           HV0003|              B02836|2021-02-04 23:15:27|2021-02-04 23:34:29|          74|          81|   null|\n",
      "|           HV0003|              B02882|2021-02-05 07:45:49|2021-02-05 08:05:03|         239|         231|   null|\n",
      "|           HV0003|              B02887|2021-02-03 17:33:59|2021-02-03 17:47:14|          95|         196|   null|\n",
      "|           HV0003|              B02877|2021-02-03 09:33:06|2021-02-03 09:45:59|         241|         265|   null|\n",
      "|           HV0003|              B02872|2021-02-02 12:58:46|2021-02-02 13:06:20|          90|         137|   null|\n",
      "+-----------------+--------------------+-------------------+-------------------+------------+------------+-------+\n",
      "\n"
     ]
    }
   ],
   "source": [
    "spark.sql(\"\"\"\n",
    "SELECT *\n",
    "FROM fhvhv_2021_02\n",
    "LIMIT 10\n",
    "\"\"\").show()"
   ]
  },
  {
   "cell_type": "markdown",
   "id": "d3f18778",
   "metadata": {},
   "source": [
    "### Question 3. Count records"
   ]
  },
  {
   "cell_type": "code",
   "execution_count": 34,
   "id": "47b49684",
   "metadata": {},
   "outputs": [
    {
     "name": "stderr",
     "output_type": "stream",
     "text": [
      "\r",
      "[Stage 12:>                                                         (0 + 4) / 4]\r"
     ]
    },
    {
     "name": "stdout",
     "output_type": "stream",
     "text": [
      "+--------+\n",
      "|count(1)|\n",
      "+--------+\n",
      "|  367170|\n",
      "+--------+\n",
      "\n"
     ]
    },
    {
     "name": "stderr",
     "output_type": "stream",
     "text": [
      "\r",
      "                                                                                \r"
     ]
    }
   ],
   "source": [
    "from pyspark.sql.functions import dayofmonth\n",
    "\n",
    "spark.sql(\"\"\"\n",
    "SELECT COUNT(*)\n",
    "FROM fhvhv_2021_02\n",
    "WHERE dayofmonth(pickup_datetime) = 15\n",
    "\"\"\").show()"
   ]
  },
  {
   "cell_type": "markdown",
   "id": "1b620bc9",
   "metadata": {},
   "source": [
    "### Question 4. Longest trip for each day"
   ]
  },
  {
   "cell_type": "code",
   "execution_count": 47,
   "id": "a24290f4",
   "metadata": {},
   "outputs": [
    {
     "name": "stderr",
     "output_type": "stream",
     "text": [
      "\r",
      "[Stage 23:>                                                         (0 + 4) / 4]\r"
     ]
    },
    {
     "name": "stdout",
     "output_type": "stream",
     "text": [
      "+-------------------+-------------------+----------------+\n",
      "|    pickup_datetime|   dropoff_datetime|duration_seconds|\n",
      "+-------------------+-------------------+----------------+\n",
      "|2021-02-11 13:40:44|2021-02-12 10:39:44|           75540|\n",
      "|2021-02-17 15:54:53|2021-02-18 07:48:34|           57221|\n",
      "|2021-02-20 12:08:15|2021-02-21 00:22:14|           44039|\n",
      "|2021-02-03 20:24:25|2021-02-04 07:41:58|           40653|\n",
      "|2021-02-19 23:17:44|2021-02-20 09:44:01|           37577|\n",
      "|2021-02-25 17:13:35|2021-02-26 02:57:05|           35010|\n",
      "|2021-02-20 01:36:13|2021-02-20 11:16:19|           34806|\n",
      "|2021-02-18 15:24:19|2021-02-19 01:01:11|           34612|\n",
      "|2021-02-18 01:31:20|2021-02-18 11:07:15|           34555|\n",
      "|2021-02-10 20:51:39|2021-02-11 06:21:08|           34169|\n",
      "|2021-02-10 01:56:17|2021-02-10 10:57:33|           32476|\n",
      "|2021-02-25 09:18:18|2021-02-25 18:18:57|           32439|\n",
      "|2021-02-21 19:59:13|2021-02-22 04:56:16|           32223|\n",
      "|2021-02-09 18:36:13|2021-02-10 03:31:00|           32087|\n",
      "|2021-02-06 09:48:09|2021-02-06 18:32:16|           31447|\n",
      "|2021-02-02 09:42:30|2021-02-02 18:17:43|           30913|\n",
      "|2021-02-10 10:12:08|2021-02-10 18:46:24|           30856|\n",
      "|2021-02-09 13:30:13|2021-02-09 22:02:25|           30732|\n",
      "|2021-02-21 22:50:52|2021-02-22 07:21:52|           30660|\n",
      "|2021-02-05 21:32:33|2021-02-06 06:01:04|           30511|\n",
      "+-------------------+-------------------+----------------+\n",
      "only showing top 20 rows\n",
      "\n"
     ]
    },
    {
     "name": "stderr",
     "output_type": "stream",
     "text": [
      "\r",
      "[Stage 23:==============>                                           (1 + 3) / 4]\r",
      "\r",
      "                                                                                \r"
     ]
    }
   ],
   "source": [
    "spark.sql(\"\"\"\n",
    "SELECT \n",
    "  pickup_datetime, \n",
    "  dropoff_datetime, \n",
    "  unix_timestamp(dropoff_datetime) - unix_timestamp(pickup_datetime) AS duration_seconds\n",
    "FROM fhvhv_2021_02\n",
    "WHERE pickup_datetime IS NOT NULL\n",
    "  AND dropoff_datetime IS NOT NULL\n",
    "ORDER BY duration_seconds DESC\n",
    "\"\"\").show()"
   ]
  },
  {
   "cell_type": "markdown",
   "id": "860ad567",
   "metadata": {},
   "source": [
    "### Question 5. Most frequent dispatching_base_num"
   ]
  },
  {
   "cell_type": "code",
   "execution_count": 49,
   "id": "56ded005",
   "metadata": {},
   "outputs": [
    {
     "name": "stderr",
     "output_type": "stream",
     "text": [
      "[Stage 25:================================================>     (181 + 4) / 200]\r"
     ]
    },
    {
     "name": "stdout",
     "output_type": "stream",
     "text": [
      "+--------------------+-------+\n",
      "|dispatching_base_num|  count|\n",
      "+--------------------+-------+\n",
      "|              B02510|3233664|\n",
      "|              B02764| 965568|\n",
      "|              B02872| 882689|\n",
      "|              B02875| 685390|\n",
      "|              B02765| 559768|\n",
      "|              B02869| 429720|\n",
      "|              B02887| 322331|\n",
      "|              B02871| 312364|\n",
      "|              B02864| 311603|\n",
      "|              B02866| 311089|\n",
      "|              B02878| 305185|\n",
      "|              B02682| 303255|\n",
      "|              B02617| 274510|\n",
      "|              B02883| 251617|\n",
      "|              B02884| 244963|\n",
      "|              B02882| 232173|\n",
      "|              B02876| 215693|\n",
      "|              B02879| 210137|\n",
      "|              B02867| 200530|\n",
      "|              B02877| 198938|\n",
      "+--------------------+-------+\n",
      "only showing top 20 rows\n",
      "\n"
     ]
    },
    {
     "name": "stderr",
     "output_type": "stream",
     "text": [
      "\r",
      "                                                                                \r"
     ]
    }
   ],
   "source": [
    "spark.sql(\"\"\"\n",
    "SELECT \n",
    "  dispatching_base_num,\n",
    "  COUNT(*) AS count\n",
    "FROM fhvhv_2021_02\n",
    "GROUP BY dispatching_base_num\n",
    "ORDER BY count DESC\n",
    "\"\"\").show()"
   ]
  },
  {
   "cell_type": "markdown",
   "id": "35aea8e7",
   "metadata": {},
   "source": [
    "### Question 6. Most common locations pair"
   ]
  },
  {
   "cell_type": "code",
   "execution_count": 50,
   "id": "e3198440",
   "metadata": {},
   "outputs": [],
   "source": [
    "zones = spark.read \\\n",
    "    .option(\"header\", \"true\") \\\n",
    "    .csv('taxi+_zone_lookup.csv')"
   ]
  },
  {
   "cell_type": "code",
   "execution_count": 51,
   "id": "2e6c441a",
   "metadata": {},
   "outputs": [],
   "source": [
    "### Register dataframe as temp table so we can run sql on it\n",
    "zones.registerTempTable('zones')"
   ]
  },
  {
   "cell_type": "code",
   "execution_count": 65,
   "id": "c776a623",
   "metadata": {},
   "outputs": [
    {
     "name": "stderr",
     "output_type": "stream",
     "text": [
      "[Stage 48:=============================>                            (2 + 2) / 4]\r"
     ]
    },
    {
     "name": "stdout",
     "output_type": "stream",
     "text": [
      "+-----------------------------------------------------+-----+\n",
      "|locations_pair                                       |count|\n",
      "+-----------------------------------------------------+-----+\n",
      "|East New York / East New York                        |45041|\n",
      "|Borough Park / Borough Park                          |37329|\n",
      "|Canarsie / Canarsie                                  |28026|\n",
      "|Crown Heights North / Crown Heights North            |25976|\n",
      "|Bay Ridge / Bay Ridge                                |17934|\n",
      "|Jackson Heights / Jackson Heights                    |14688|\n",
      "|Astoria / Astoria                                    |14688|\n",
      "|Central Harlem North / Central Harlem North          |14481|\n",
      "|Bushwick South / Bushwick South                      |14424|\n",
      "|Flatbush/Ditmas Park / Flatbush/Ditmas Park          |13976|\n",
      "|South Ozone Park / South Ozone Park                  |13716|\n",
      "|Brownsville / Brownsville                            |12829|\n",
      "|JFK Airport / NA                                     |12542|\n",
      "|Prospect-Lefferts Gardens / Crown Heights North      |11814|\n",
      "|Forest Hills / Forest Hills                          |11548|\n",
      "|Bushwick North / Bushwick South                      |11491|\n",
      "|Bushwick South / Bushwick North                      |11487|\n",
      "|Crown Heights North / Prospect-Lefferts Gardens      |11462|\n",
      "|Crown Heights North / Stuyvesant Heights             |11342|\n",
      "|Prospect-Lefferts Gardens / Prospect-Lefferts Gardens|11308|\n",
      "+-----------------------------------------------------+-----+\n",
      "only showing top 20 rows\n",
      "\n"
     ]
    },
    {
     "name": "stderr",
     "output_type": "stream",
     "text": [
      "\r",
      "                                                                                \r"
     ]
    }
   ],
   "source": [
    "spark.sql(\"\"\"\n",
    "SELECT  \n",
    "  CONCAT(COALESCE(pu_zones.Zone, 'Unknown'), ' / ', COALESCE(do_zones.Zone, 'Unknown')) AS locations_pair,\n",
    "  COUNT(*) AS count\n",
    "FROM fhvhv_2021_02\n",
    "LEFT JOIN zones AS pu_zones\n",
    "ON PULocationID = pu_zones.LocationID\n",
    "LEFT JOIN zones AS do_zones\n",
    "ON DOLocationID = do_zones.LocationID\n",
    "GROUP BY CONCAT(COALESCE(pu_zones.Zone, 'Unknown'), ' / ', COALESCE(do_zones.Zone, 'Unknown'))\n",
    "ORDER BY count DESC\n",
    "\"\"\").show(20, truncate=False)"
   ]
  },
  {
   "cell_type": "code",
   "execution_count": null,
   "id": "546c4786",
   "metadata": {},
   "outputs": [],
   "source": []
  }
 ],
 "metadata": {
  "kernelspec": {
   "display_name": "Python 3 (ipykernel)",
   "language": "python",
   "name": "python3"
  },
  "language_info": {
   "codemirror_mode": {
    "name": "ipython",
    "version": 3
   },
   "file_extension": ".py",
   "mimetype": "text/x-python",
   "name": "python",
   "nbconvert_exporter": "python",
   "pygments_lexer": "ipython3",
   "version": "3.9.7"
  }
 },
 "nbformat": 4,
 "nbformat_minor": 5
}
